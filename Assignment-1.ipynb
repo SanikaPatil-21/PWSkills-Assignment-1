{
 "cells": [
  {
   "cell_type": "markdown",
   "id": "5ad52a36-efd0-49b7-a39f-d7f588b4c517",
   "metadata": {},
   "source": [
    "## Q1. Create one variable containing following type of data:\n",
    "(i) string\n",
    "(ii) list\n",
    "(iii) float\n",
    "(iv) tuple"
   ]
  },
  {
   "cell_type": "code",
   "execution_count": 3,
   "id": "68f8337b-a79f-4036-812c-a61a6e39f007",
   "metadata": {},
   "outputs": [],
   "source": [
    "# 1. String\n",
    "\n",
    "s = \"Sanika\""
   ]
  },
  {
   "cell_type": "code",
   "execution_count": 4,
   "id": "8bac225f-4058-4648-b2d6-d2b1036537d7",
   "metadata": {},
   "outputs": [
    {
     "data": {
      "text/plain": [
       "str"
      ]
     },
     "execution_count": 4,
     "metadata": {},
     "output_type": "execute_result"
    }
   ],
   "source": [
    "type(s)"
   ]
  },
  {
   "cell_type": "code",
   "execution_count": 5,
   "id": "2f0e3fa5-9641-4036-99b3-843d7ff54875",
   "metadata": {},
   "outputs": [],
   "source": [
    "# 2. list\n",
    "\n",
    "l = [1,2,\"patil\",3.14]"
   ]
  },
  {
   "cell_type": "code",
   "execution_count": 6,
   "id": "9cc834c6-1165-4d5f-827b-4fd4b3752e11",
   "metadata": {},
   "outputs": [
    {
     "data": {
      "text/plain": [
       "list"
      ]
     },
     "execution_count": 6,
     "metadata": {},
     "output_type": "execute_result"
    }
   ],
   "source": [
    "type(l)"
   ]
  },
  {
   "cell_type": "code",
   "execution_count": 7,
   "id": "0c567fea-d3df-422a-8f67-27e9e83f603b",
   "metadata": {},
   "outputs": [],
   "source": [
    "# 3. float\n",
    "a = 3.14"
   ]
  },
  {
   "cell_type": "code",
   "execution_count": 8,
   "id": "e279546a-8ef4-4cfe-87ae-bbf533e08113",
   "metadata": {},
   "outputs": [
    {
     "data": {
      "text/plain": [
       "float"
      ]
     },
     "execution_count": 8,
     "metadata": {},
     "output_type": "execute_result"
    }
   ],
   "source": [
    "type(a)"
   ]
  },
  {
   "cell_type": "code",
   "execution_count": 9,
   "id": "399e32c9-34c8-4ed7-a74b-296097ca4b89",
   "metadata": {},
   "outputs": [],
   "source": [
    "# 4. tuple\n",
    "\n",
    "b = (1,2,3,4)"
   ]
  },
  {
   "cell_type": "code",
   "execution_count": 10,
   "id": "12943db8-227a-4c8d-8aba-f9ea6759e432",
   "metadata": {},
   "outputs": [
    {
     "data": {
      "text/plain": [
       "tuple"
      ]
     },
     "execution_count": 10,
     "metadata": {},
     "output_type": "execute_result"
    }
   ],
   "source": [
    "type(b)"
   ]
  },
  {
   "cell_type": "markdown",
   "id": "8f6af2c6-ecb0-496a-8b81-56d4e4c81107",
   "metadata": {},
   "source": [
    "## Q2. Given are some following variables containing data:\n",
    "(i) var1 = ‘ ‘\n",
    "(ii) var2 = [ 'DS' , 'ML' , 'Python']\n",
    "(iii) var3 = ( ‘DS’ , ’ML’ , ‘Python’ )\n",
    "(iv) var4 = 1.\n",
    "##### What will be the data type of the above given variable."
   ]
  },
  {
   "cell_type": "code",
   "execution_count": 11,
   "id": "14392dfc-ff75-4b9f-9aac-3c189d6ddca9",
   "metadata": {},
   "outputs": [
    {
     "data": {
      "text/plain": [
       "str"
      ]
     },
     "execution_count": 11,
     "metadata": {},
     "output_type": "execute_result"
    }
   ],
   "source": [
    "var1 = ''\n",
    "type(var1)"
   ]
  },
  {
   "cell_type": "code",
   "execution_count": 13,
   "id": "39565d46-52c5-42a5-82c2-fb7b415536bf",
   "metadata": {},
   "outputs": [
    {
     "data": {
      "text/plain": [
       "list"
      ]
     },
     "execution_count": 13,
     "metadata": {},
     "output_type": "execute_result"
    }
   ],
   "source": [
    "var2 = [ 'DS' , 'ML' , 'Python']\n",
    "type(var2)"
   ]
  },
  {
   "cell_type": "code",
   "execution_count": 14,
   "id": "230ffba2-a182-461f-ba2c-48e4e3453a03",
   "metadata": {},
   "outputs": [
    {
     "data": {
      "text/plain": [
       "tuple"
      ]
     },
     "execution_count": 14,
     "metadata": {},
     "output_type": "execute_result"
    }
   ],
   "source": [
    "var3 = ( 'DS' , 'ML' , 'Python')\n",
    "type(var3)"
   ]
  },
  {
   "cell_type": "code",
   "execution_count": 15,
   "id": "2b1c5c4f-cba1-4881-bbb3-691facf75db8",
   "metadata": {},
   "outputs": [
    {
     "data": {
      "text/plain": [
       "int"
      ]
     },
     "execution_count": 15,
     "metadata": {},
     "output_type": "execute_result"
    }
   ],
   "source": [
    "var4 = 1\n",
    "type(var4)\n"
   ]
  },
  {
   "cell_type": "markdown",
   "id": "0c8fcfa0-e402-4c3a-be72-4cecdc5903f3",
   "metadata": {},
   "source": [
    "## Q3. Explain the use of the following operators using an example:\n",
    "(i) /\n",
    "(ii) %\n",
    "(iii) //\n",
    "(iv) **"
   ]
  },
  {
   "cell_type": "markdown",
   "id": "8b31e81d-9d67-42e4-a0a7-925786bb50c8",
   "metadata": {},
   "source": [
    "### 1. /\n",
    "\n",
    "#### '/' is used for division. It returns the division answer of two numbers. If the answer is in decimal it will prints the complete answer. All answers are in float pattern.\n"
   ]
  },
  {
   "cell_type": "code",
   "execution_count": 18,
   "id": "9a149662-1c4b-48b4-96be-2e7fd99bf1f0",
   "metadata": {},
   "outputs": [
    {
     "data": {
      "text/plain": [
       "2.0"
      ]
     },
     "execution_count": 18,
     "metadata": {},
     "output_type": "execute_result"
    }
   ],
   "source": [
    "30 / 15\n"
   ]
  },
  {
   "cell_type": "markdown",
   "id": "e0dbcefc-0d35-41e2-842c-6bde8e01d7df",
   "metadata": {},
   "source": [
    "### 2. %\n",
    "\n",
    "#### '%' is a modulus function. It return reminder of the division operation."
   ]
  },
  {
   "cell_type": "code",
   "execution_count": 19,
   "id": "cb260e34-9495-402e-b772-9004da31b443",
   "metadata": {},
   "outputs": [
    {
     "data": {
      "text/plain": [
       "8"
      ]
     },
     "execution_count": 19,
     "metadata": {},
     "output_type": "execute_result"
    }
   ],
   "source": [
    "21 % 13"
   ]
  },
  {
   "cell_type": "markdown",
   "id": "e8a020ad-2400-48f1-ae18-4a6acabf4384",
   "metadata": {},
   "source": [
    "### //\n",
    "\n",
    "#### '//' it works similar to '/'. It also returns the division. It gives only perfectly division number. Does not gives decimal devision number."
   ]
  },
  {
   "cell_type": "code",
   "execution_count": 21,
   "id": "e67fe28e-82f4-4ff6-b98f-1a071f140bfe",
   "metadata": {},
   "outputs": [
    {
     "data": {
      "text/plain": [
       "6"
      ]
     },
     "execution_count": 21,
     "metadata": {},
     "output_type": "execute_result"
    }
   ],
   "source": [
    "20 // 3"
   ]
  },
  {
   "cell_type": "markdown",
   "id": "b92e008d-ff32-4e61-a42c-a79c8cbd5f0f",
   "metadata": {},
   "source": [
    "### **\n",
    "\n",
    "#### '**' used for calculating power. First raise to second."
   ]
  },
  {
   "cell_type": "code",
   "execution_count": 22,
   "id": "a1cc427a-bfd3-49da-9397-de9a92590a2d",
   "metadata": {},
   "outputs": [
    {
     "data": {
      "text/plain": [
       "8"
      ]
     },
     "execution_count": 22,
     "metadata": {},
     "output_type": "execute_result"
    }
   ],
   "source": [
    "2 ** 3"
   ]
  },
  {
   "cell_type": "markdown",
   "id": "8435f991-78b9-4e4c-aeff-0553c7034cd6",
   "metadata": {},
   "source": [
    "### Q4. Create a list of length 10 of your choice containing multiple types of data. Using for loop print the element and its data type."
   ]
  },
  {
   "cell_type": "code",
   "execution_count": 7,
   "id": "5a8adc76-80d6-4576-aaf4-fbdb5e081b90",
   "metadata": {},
   "outputs": [
    {
     "name": "stdout",
     "output_type": "stream",
     "text": [
      "Element :1 , Element Type : <class 'int'>\n",
      "Element :2 , Element Type : <class 'int'>\n",
      "Element :3 , Element Type : <class 'int'>\n",
      "Element :4 , Element Type : <class 'int'>\n",
      "Element :sanika , Element Type : <class 'str'>\n",
      "Element :patil , Element Type : <class 'str'>\n",
      "Element :3.14 , Element Type : <class 'float'>\n",
      "Element :0 , Element Type : <class 'int'>\n",
      "Element :True , Element Type : <class 'bool'>\n",
      "Element :False , Element Type : <class 'bool'>\n"
     ]
    }
   ],
   "source": [
    "l = [1,2,3,4,'sanika','patil',3.14,0,True,False]\n",
    "\n",
    "for element in l:\n",
    "    print(f\"Element :{element} , Element Type : {type(element)}\")\n"
   ]
  },
  {
   "cell_type": "markdown",
   "id": "a651af0f-7a44-46e4-9305-0b8e4114a518",
   "metadata": {},
   "source": [
    "### Q5. Using a while loop, verify if the number A is purely divisible by number B and if so then how many times it can be divisible."
   ]
  },
  {
   "cell_type": "code",
   "execution_count": 13,
   "id": "26932630-685d-4d34-bab7-8172c8a1de55",
   "metadata": {},
   "outputs": [
    {
     "name": "stdin",
     "output_type": "stream",
     "text": [
      "Enter the value for A 21\n",
      "Enter the value for B 3\n"
     ]
    },
    {
     "name": "stdout",
     "output_type": "stream",
     "text": [
      "7.0 is divisible by 3 , 1 times\n"
     ]
    }
   ],
   "source": [
    "A = int(input(\"Enter the value for A\"))\n",
    "B = int(input(\"Enter the value for B\"))\n",
    "\n",
    "division = 0\n",
    "\n",
    "while A % B == 0:\n",
    "    A = A / B\n",
    "    division += 1\n",
    "\n",
    "if division > 0:\n",
    "    print(f\"{A} is divisible by {B} , {division} times\")\n",
    "else :\n",
    "    print(f\"{A} is not divisible by {B}\")"
   ]
  },
  {
   "cell_type": "markdown",
   "id": "1d2d7b09-7196-4da0-80e1-59f2394ef096",
   "metadata": {},
   "source": [
    "### Q6. Create a list containing 25 int type data. Using for loop and if-else condition print if the element is divisible by 3 or not."
   ]
  },
  {
   "cell_type": "code",
   "execution_count": 18,
   "id": "bc8d84b6-b158-44be-9686-f9ac3a086348",
   "metadata": {},
   "outputs": [
    {
     "name": "stdout",
     "output_type": "stream",
     "text": [
      "Number is not divisible by 3\n",
      "Number is not divisible by 3\n",
      "Number is divisible by 3\n",
      "Number is divisible by 3\n",
      "Number is not divisible by 3\n",
      "Number is not divisible by 3\n",
      "Number is not divisible by 3\n",
      "Number is not divisible by 3\n",
      "Number is divisible by 3\n",
      "Number is not divisible by 3\n",
      "Number is divisible by 3\n",
      "Number is divisible by 3\n",
      "Number is not divisible by 3\n",
      "Number is not divisible by 3\n",
      "Number is not divisible by 3\n",
      "Number is not divisible by 3\n",
      "Number is divisible by 3\n",
      "Number is not divisible by 3\n",
      "Number is not divisible by 3\n",
      "Number is not divisible by 3\n",
      "Number is not divisible by 3\n",
      "Number is not divisible by 3\n",
      "Number is not divisible by 3\n",
      "Number is not divisible by 3\n",
      "Number is divisible by 3\n"
     ]
    }
   ],
   "source": [
    "l = [43,65,72,63,94,52,83,19,27,64,27,9,37,49,47,46,75,95,85,92,22,40,70,77,99]\n",
    "\n",
    "for i in l:\n",
    "    if i % 3 == 0:\n",
    "        print (\"Number is divisible by 3\")\n",
    "    else :\n",
    "        print(\"Number is not divisible by 3\")"
   ]
  },
  {
   "cell_type": "markdown",
   "id": "d74081b1-055c-4ae1-abe9-d1595e92ba4d",
   "metadata": {},
   "source": [
    "### Q7. What do you understand about mutable and immutable data types? Give examples for both showing this property."
   ]
  },
  {
   "cell_type": "markdown",
   "id": "79da8915-3438-4e10-95c3-8c5138e3cfce",
   "metadata": {},
   "source": [
    "#### In mutable data type objects can be modified or changed by another value without creating a new variable.\n",
    "#### eg. List, Dictionary\n",
    "\n",
    "#### In imutable data type objects can't be modified or changed. We need to create a new variable.\n",
    "#### eg. String, Tuple"
   ]
  },
  {
   "cell_type": "code",
   "execution_count": 19,
   "id": "331d5704-a7e5-414a-ab28-8516939a8f61",
   "metadata": {},
   "outputs": [],
   "source": [
    "# Example of mutable data type\n",
    "\n",
    "list = [1,2,3,'sanika','patil']\n",
    "\n",
    "list[2] = 4"
   ]
  },
  {
   "cell_type": "code",
   "execution_count": 20,
   "id": "e0fabcc0-1751-447c-bf10-8813f93b96e8",
   "metadata": {},
   "outputs": [
    {
     "data": {
      "text/plain": [
       "[1, 2, 4, 'sanika', 'patil']"
      ]
     },
     "execution_count": 20,
     "metadata": {},
     "output_type": "execute_result"
    }
   ],
   "source": [
    "list"
   ]
  },
  {
   "cell_type": "code",
   "execution_count": 22,
   "id": "36282cf1-bba1-434f-8d57-2b42a1dab5f9",
   "metadata": {},
   "outputs": [],
   "source": [
    "# Example of imutable data type\n",
    "\n",
    "t = (1,2,3,4)\n",
    "\n",
    "t[1] = 5"
   ]
  },
  {
   "cell_type": "code",
   "execution_count": 23,
   "id": "0b148c6d-d307-4bae-b30e-4d178f726982",
   "metadata": {},
   "outputs": [],
   "source": [
    "# answer is....TypeError: 'tuple' object does not support item assignment\n"
   ]
  },
  {
   "cell_type": "code",
   "execution_count": null,
   "id": "caf5a6c6-3b74-4e8f-83fa-752c8256dd86",
   "metadata": {},
   "outputs": [],
   "source": []
  }
 ],
 "metadata": {
  "kernelspec": {
   "display_name": "Python 3 (ipykernel)",
   "language": "python",
   "name": "python3"
  },
  "language_info": {
   "codemirror_mode": {
    "name": "ipython",
    "version": 3
   },
   "file_extension": ".py",
   "mimetype": "text/x-python",
   "name": "python",
   "nbconvert_exporter": "python",
   "pygments_lexer": "ipython3",
   "version": "3.10.8"
  }
 },
 "nbformat": 4,
 "nbformat_minor": 5
}
